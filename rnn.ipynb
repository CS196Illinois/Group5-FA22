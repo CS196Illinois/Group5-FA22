{
 "cells": [
  {
   "cell_type": "code",
   "execution_count": 2,
   "metadata": {},
   "outputs": [],
   "source": [
    "import torch.nn as nn\n",
    "import torch\n",
    "from tqdm import tqdm\n",
    "import itertools\n",
    "from datasets import load_dataset\n",
    "from transformers import PreTrainedTokenizerFast"
   ]
  },
  {
   "cell_type": "code",
   "execution_count": 3,
   "metadata": {},
   "outputs": [
    {
     "name": "stderr",
     "output_type": "stream",
     "text": [
      "Using custom data configuration default\n",
      "Found cached dataset qa_wiki_t5_large (C:/Users/billj/.cache/huggingface/datasets/lmqg___qa_wiki_t5_large/default/0.0.0/f3a1d4d9e366c8e5d66c9329ca2a32b4cb673782cda308c7ef928789d431cfcb)\n",
      "100%|██████████| 2/2 [00:00<00:00,  4.50it/s]\n"
     ]
    }
   ],
   "source": [
    "dataset = load_dataset('lmqg/qa_wiki_t5_large')"
   ]
  },
  {
   "cell_type": "code",
   "execution_count": 4,
   "metadata": {},
   "outputs": [],
   "source": [
    "fast_tokenizer = PreTrainedTokenizerFast(tokenizer_file = \"qa_wiki_t5_large_tokenizer.json\")"
   ]
  },
  {
   "cell_type": "code",
   "execution_count": 5,
   "metadata": {},
   "outputs": [
    {
     "data": {
      "text/plain": [
       "['w', 'ik', 'ipedia']"
      ]
     },
     "execution_count": 5,
     "metadata": {},
     "output_type": "execute_result"
    }
   ],
   "source": [
    "fast_tokenizer(\"wikipedia\").tokens()"
   ]
  },
  {
   "cell_type": "code",
   "execution_count": 7,
   "metadata": {},
   "outputs": [],
   "source": [
    "class RNN(nn.Module):\n",
    "    def __init__(self, input_size, hidden_size):\n",
    "        super(RNN, self).__init__()\n",
    "\n",
    "        self.w_h = nn.Linear(input_size + hidden_size, hidden_size)\n",
    "        self.w_o = nn.Linear(hidden_size, input_size)\n",
    "        self.hidden_size = hidden_size\n",
    "        self.input_size = input_size\n",
    "    \n",
    "    def forward(self, input_token, hidden_state):\n",
    "        comb = torch.cat([input_token, hidden_state], dim = 1)\n",
    "        hidden = self.w_h(comb)\n",
    "        out = self.w_o(hidden)\n",
    "\n",
    "        return out, hidden\n"
   ]
  },
  {
   "cell_type": "code",
   "execution_count": 8,
   "metadata": {},
   "outputs": [],
   "source": [
    "model = RNN(2048, 64)"
   ]
  },
  {
   "cell_type": "code",
   "execution_count": 9,
   "metadata": {},
   "outputs": [],
   "source": [
    "def convert_to_single_string(sample):\n",
    "    return sample['title'] + \"[SEP]\" + sample['context'] + \"[ANS]\" + sample['answers']['text'][0]"
   ]
  },
  {
   "cell_type": "code",
   "execution_count": null,
   "metadata": {},
   "outputs": [],
   "source": [
    "def train(dataset, model):\n",
    "    model.train()\n",
    "\n",
    "    for epoch in range(1):\n",
    "        for sample in dataset['train']:\n",
    "            x = convert_to_single_string(sample)\n",
    "            x = fast_tokenizer(x, return_tensors='pt')['input_ids']\n",
    "            x = torch.nn.functional.one_hot(x, 2048)\n",
    "\n",
    "            state_h = torch.zeros(1, 64)\n",
    "            loss = torch.tensor([0.0])\n",
    "            for tok_idx in range(x.size()[1] - 1):\n",
    "                curr_token = x[:, tok_idx+1]\n",
    "                y_pred, state_h = model(curr_token, state_h)\n",
    "                y_true = x[:, tok_idx+1]\n",
    "                loss += crit(y_pred, y_true.float())/(x.size()[1])\n",
    "                \n",
    "\n"
   ]
  }
 ],
 "metadata": {
  "kernelspec": {
   "display_name": "Python 3.10.7 64-bit",
   "language": "python",
   "name": "python3"
  },
  "language_info": {
   "codemirror_mode": {
    "name": "ipython",
    "version": 3
   },
   "file_extension": ".py",
   "mimetype": "text/x-python",
   "name": "python",
   "nbconvert_exporter": "python",
   "pygments_lexer": "ipython3",
   "version": "3.10.7"
  },
  "orig_nbformat": 4,
  "vscode": {
   "interpreter": {
    "hash": "ab38b06064ea4b856bb9058711e2b96b59d333ecce76af45e8ff65efbce80a82"
   }
  }
 },
 "nbformat": 4,
 "nbformat_minor": 2
}
